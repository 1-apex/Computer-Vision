{
 "cells": [
  {
   "cell_type": "markdown",
   "id": "05ff27fa",
   "metadata": {},
   "source": [
    "## Importing necessary libraries"
   ]
  },
  {
   "cell_type": "code",
   "execution_count": 56,
   "id": "0d239fd7",
   "metadata": {},
   "outputs": [],
   "source": [
    "import cv2"
   ]
  },
  {
   "cell_type": "markdown",
   "id": "fc2a54d7",
   "metadata": {},
   "source": [
    "## Reading an image using cv2\n"
   ]
  },
  {
   "cell_type": "code",
   "execution_count": 57,
   "id": "48a7c999",
   "metadata": {},
   "outputs": [],
   "source": [
    "img_1 = cv2.imread('Images/Expt 02/expt_02_img_1.jpg')"
   ]
  },
  {
   "cell_type": "code",
   "execution_count": 58,
   "id": "287e2319",
   "metadata": {},
   "outputs": [
    {
     "data": {
      "text/plain": [
       "-1"
      ]
     },
     "execution_count": 58,
     "metadata": {},
     "output_type": "execute_result"
    }
   ],
   "source": [
    "cv2.imshow(\"Image 1\", img_1)\n",
    "cv2.waitKey(0)"
   ]
  },
  {
   "cell_type": "code",
   "execution_count": 59,
   "id": "b4efcd62",
   "metadata": {},
   "outputs": [
    {
     "data": {
      "text/plain": [
       "(250, 500, 3)"
      ]
     },
     "execution_count": 59,
     "metadata": {},
     "output_type": "execute_result"
    }
   ],
   "source": [
    "img_1.shape"
   ]
  },
  {
   "cell_type": "markdown",
   "id": "f1488d26",
   "metadata": {},
   "source": [
    "To add two images we need them in same sizes(dimensions)"
   ]
  },
  {
   "cell_type": "code",
   "execution_count": 60,
   "id": "ea51b582",
   "metadata": {},
   "outputs": [],
   "source": [
    "img_2 = cv2.imread('Images/Expt 02/expt_02_img_2.jpg')"
   ]
  },
  {
   "cell_type": "code",
   "execution_count": 61,
   "id": "3fe89f11",
   "metadata": {},
   "outputs": [
    {
     "data": {
      "text/plain": [
       "(250, 500, 3)"
      ]
     },
     "execution_count": 61,
     "metadata": {},
     "output_type": "execute_result"
    }
   ],
   "source": [
    "img_2.shape"
   ]
  },
  {
   "cell_type": "code",
   "execution_count": 66,
   "id": "eaa4cb48",
   "metadata": {},
   "outputs": [],
   "source": [
    "img_2 = cv2.resize(mar, (500, 250))"
   ]
  },
  {
   "cell_type": "code",
   "execution_count": 67,
   "id": "c0111506",
   "metadata": {},
   "outputs": [
    {
     "data": {
      "text/plain": [
       "(250, 500, 3)"
      ]
     },
     "execution_count": 67,
     "metadata": {},
     "output_type": "execute_result"
    }
   ],
   "source": [
    "img_2.shape"
   ]
  },
  {
   "cell_type": "code",
   "execution_count": 68,
   "id": "593e5ed2",
   "metadata": {},
   "outputs": [
    {
     "data": {
      "text/plain": [
       "-1"
      ]
     },
     "execution_count": 68,
     "metadata": {},
     "output_type": "execute_result"
    }
   ],
   "source": [
    "cv2.imshow(\"Image 2\", img_2)\n",
    "cv2.waitKey(0)"
   ]
  },
  {
   "cell_type": "markdown",
   "id": "9a5711d6",
   "metadata": {},
   "source": [
    "## Addition of Images\n"
   ]
  },
  {
   "cell_type": "code",
   "execution_count": 69,
   "id": "67d0d22a",
   "metadata": {},
   "outputs": [
    {
     "data": {
      "text/plain": [
       "-1"
      ]
     },
     "execution_count": 69,
     "metadata": {},
     "output_type": "execute_result"
    }
   ],
   "source": [
    "add = cv2.add(img_1, img_2)\n",
    "\n",
    "cv2.imshow(\"Addition of images\", add)\n",
    "cv2.waitKey(0)"
   ]
  },
  {
   "cell_type": "code",
   "execution_count": 70,
   "id": "39fb43f0",
   "metadata": {},
   "outputs": [
    {
     "data": {
      "text/plain": [
       "-1"
      ]
     },
     "execution_count": 70,
     "metadata": {},
     "output_type": "execute_result"
    }
   ],
   "source": [
    "# adding images inputs with applied parameters\n",
    "add_weighted = cv2.addWeighted(img_1, 0.5, img_2, 0.4, 0)\n",
    "\n",
    "cv2.imshow(\"Weighted Addition\", add_weighted)\n",
    "cv2.waitKey(0)"
   ]
  },
  {
   "cell_type": "markdown",
   "id": "8efc53d0",
   "metadata": {},
   "source": [
    "## Subtraction of Images"
   ]
  },
  {
   "cell_type": "code",
   "execution_count": 71,
   "id": "b4062674",
   "metadata": {},
   "outputs": [
    {
     "data": {
      "text/plain": [
       "-1"
      ]
     },
     "execution_count": 71,
     "metadata": {},
     "output_type": "execute_result"
    }
   ],
   "source": [
    "sub = cv2.subtract(img_1, img_2)\n",
    "\n",
    "cv2.imshow(\"Subtraction of images\", sub)\n",
    "cv2.waitKey(0)"
   ]
  },
  {
   "cell_type": "markdown",
   "id": "56ffaee1",
   "metadata": {},
   "source": [
    "# Bitwise Operations"
   ]
  },
  {
   "cell_type": "code",
   "execution_count": 75,
   "id": "b14f6052",
   "metadata": {},
   "outputs": [],
   "source": [
    "img_3 = cv2.imread('Images/Expt 02/expt_02_img_3.png')\n",
    "img_4 = cv2.imread('Images/Expt 02/expt_02_img_4.png')"
   ]
  },
  {
   "cell_type": "code",
   "execution_count": 77,
   "id": "849baf96",
   "metadata": {},
   "outputs": [
    {
     "data": {
      "text/plain": [
       "-1"
      ]
     },
     "execution_count": 77,
     "metadata": {},
     "output_type": "execute_result"
    }
   ],
   "source": [
    "cv2.imshow(\"Image 3\", img_3)\n",
    "cv2.waitKey(0)\n",
    "\n",
    "cv2.imshow(\"Image 4\", img_4)\n",
    "cv2.waitKey(0)"
   ]
  },
  {
   "cell_type": "markdown",
   "id": "3ee56ede",
   "metadata": {},
   "source": [
    "## AND Operator"
   ]
  },
  {
   "cell_type": "code",
   "execution_count": 79,
   "id": "4f58b503",
   "metadata": {},
   "outputs": [
    {
     "data": {
      "text/plain": [
       "-1"
      ]
     },
     "execution_count": 79,
     "metadata": {},
     "output_type": "execute_result"
    }
   ],
   "source": [
    "bit_and = cv2.bitwise_and(img_3, img_4)\n",
    "\n",
    "cv2.imshow(\"Bitwise AND\", bit_and)\n",
    "cv2.waitKey(0)"
   ]
  },
  {
   "cell_type": "markdown",
   "id": "6fd3bd67",
   "metadata": {},
   "source": [
    "## OR Operator"
   ]
  },
  {
   "cell_type": "code",
   "execution_count": 80,
   "id": "f1edd438",
   "metadata": {},
   "outputs": [
    {
     "data": {
      "text/plain": [
       "-1"
      ]
     },
     "execution_count": 80,
     "metadata": {},
     "output_type": "execute_result"
    }
   ],
   "source": [
    "bit_or = cv2.bitwise_or(img_3, img_4)\n",
    "\n",
    "cv2.imshow(\"Bitwise OR\", bit_or)\n",
    "cv2.waitKey(0)"
   ]
  },
  {
   "cell_type": "markdown",
   "id": "82dc724b",
   "metadata": {},
   "source": [
    "## XOR Operator"
   ]
  },
  {
   "cell_type": "code",
   "execution_count": 81,
   "id": "d8b024ee",
   "metadata": {},
   "outputs": [
    {
     "data": {
      "text/plain": [
       "-1"
      ]
     },
     "execution_count": 81,
     "metadata": {},
     "output_type": "execute_result"
    }
   ],
   "source": [
    "bit_xor = cv2.bitwise_xor(img_3, img_4)\n",
    "\n",
    "cv2.imshow(\"Bitwise XOR\", bit_xor)\n",
    "cv2.waitKey(0)"
   ]
  },
  {
   "cell_type": "markdown",
   "id": "bec2e469",
   "metadata": {},
   "source": [
    "## NOT Operator"
   ]
  },
  {
   "cell_type": "code",
   "execution_count": 83,
   "id": "7e31a8fe",
   "metadata": {},
   "outputs": [
    {
     "data": {
      "text/plain": [
       "-1"
      ]
     },
     "execution_count": 83,
     "metadata": {},
     "output_type": "execute_result"
    }
   ],
   "source": [
    "bit_not = cv2.bitwise_not(img_4)\n",
    "\n",
    "cv2.imshow(\"Bitwise NOT\", bit_not)\n",
    "cv2.waitKey(0)"
   ]
  },
  {
   "cell_type": "code",
   "execution_count": null,
   "id": "2f2ba4f1",
   "metadata": {},
   "outputs": [],
   "source": []
  }
 ],
 "metadata": {
  "kernelspec": {
   "display_name": "Python 3 (ipykernel)",
   "language": "python",
   "name": "python3"
  },
  "language_info": {
   "codemirror_mode": {
    "name": "ipython",
    "version": 3
   },
   "file_extension": ".py",
   "mimetype": "text/x-python",
   "name": "python",
   "nbconvert_exporter": "python",
   "pygments_lexer": "ipython3",
   "version": "3.9.12"
  }
 },
 "nbformat": 4,
 "nbformat_minor": 5
}
