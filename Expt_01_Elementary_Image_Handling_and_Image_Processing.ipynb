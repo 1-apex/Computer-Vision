{
 "cells": [
  {
   "cell_type": "markdown",
   "id": "79b0cb24",
   "metadata": {},
   "source": [
    "## Importing necessary libraries"
   ]
  },
  {
   "cell_type": "code",
   "execution_count": 15,
   "id": "9c31d3d1",
   "metadata": {},
   "outputs": [],
   "source": [
    "import cv2"
   ]
  },
  {
   "cell_type": "markdown",
   "id": "e4e35090",
   "metadata": {},
   "source": [
    "## Reading an image using cv2\n",
    "\n",
    "opencv stored images in the format of 'BGR' (Blue - Green - Red)\n",
    "\n",
    "syntax: cv2.imread(path, flag)\n",
    "\n",
    "flag - specifies the way in which the image should be read  \n",
    "flag = 1  : loads a color image (default)   \n",
    "flag = 0  : loads a grayscale image  \n",
    "flag = -1 : loads an image as such including alpha channel"
   ]
  },
  {
   "cell_type": "code",
   "execution_count": 26,
   "id": "18340108",
   "metadata": {},
   "outputs": [],
   "source": [
    "img = cv2.imread('Images/Expt 01/expt_01_rgb.png')"
   ]
  },
  {
   "cell_type": "markdown",
   "id": "75d22bda",
   "metadata": {},
   "source": [
    "## Displaying an image\n",
    "\n",
    "syntax : cv2.imshow(window_name, image)"
   ]
  },
  {
   "cell_type": "code",
   "execution_count": 17,
   "id": "a91cc3b1",
   "metadata": {},
   "outputs": [
    {
     "data": {
      "text/plain": [
       "-1"
      ]
     },
     "execution_count": 17,
     "metadata": {},
     "output_type": "execute_result"
    }
   ],
   "source": [
    "cv2.imshow(\"RedBlueGreen\", img)\n",
    "cv2.waitKey(0)"
   ]
  },
  {
   "cell_type": "code",
   "execution_count": 18,
   "id": "11b6e454",
   "metadata": {},
   "outputs": [
    {
     "data": {
      "text/plain": [
       "(600, 900, 3)"
      ]
     },
     "execution_count": 18,
     "metadata": {},
     "output_type": "execute_result"
    }
   ],
   "source": [
    "img.shape"
   ]
  },
  {
   "cell_type": "code",
   "execution_count": 19,
   "id": "9500213a",
   "metadata": {},
   "outputs": [
    {
     "data": {
      "text/plain": [
       "array([[[255, 255, 255],\n",
       "        [255, 255, 255],\n",
       "        [255, 255, 255],\n",
       "        ...,\n",
       "        [255, 255, 255],\n",
       "        [255, 255, 255],\n",
       "        [255, 255, 255]],\n",
       "\n",
       "       [[255, 255, 255],\n",
       "        [255, 255, 255],\n",
       "        [255, 255, 255],\n",
       "        ...,\n",
       "        [255, 255, 255],\n",
       "        [255, 255, 255],\n",
       "        [255, 255, 255]],\n",
       "\n",
       "       [[255, 255, 255],\n",
       "        [255, 255, 255],\n",
       "        [255, 255, 255],\n",
       "        ...,\n",
       "        [255, 255, 255],\n",
       "        [255, 255, 255],\n",
       "        [255, 255, 255]],\n",
       "\n",
       "       ...,\n",
       "\n",
       "       [[255, 255, 255],\n",
       "        [255, 255, 255],\n",
       "        [255, 255, 255],\n",
       "        ...,\n",
       "        [255, 255, 255],\n",
       "        [255, 255, 255],\n",
       "        [255, 255, 255]],\n",
       "\n",
       "       [[255, 255, 255],\n",
       "        [255, 255, 255],\n",
       "        [255, 255, 255],\n",
       "        ...,\n",
       "        [255, 255, 255],\n",
       "        [255, 255, 255],\n",
       "        [255, 255, 255]],\n",
       "\n",
       "       [[255, 255, 255],\n",
       "        [255, 255, 255],\n",
       "        [255, 255, 255],\n",
       "        ...,\n",
       "        [255, 255, 255],\n",
       "        [255, 255, 255],\n",
       "        [255, 255, 255]]], dtype=uint8)"
      ]
     },
     "execution_count": 19,
     "metadata": {},
     "output_type": "execute_result"
    }
   ],
   "source": [
    "# displays an numpy array of image\n",
    "\n",
    "img"
   ]
  },
  {
   "cell_type": "markdown",
   "id": "31cf29fc",
   "metadata": {},
   "source": [
    "## Extracting the RGB values of pixels"
   ]
  },
  {
   "cell_type": "code",
   "execution_count": 20,
   "id": "19327f67",
   "metadata": {},
   "outputs": [],
   "source": [
    "B, G, R = cv2.split(img)"
   ]
  },
  {
   "cell_type": "code",
   "execution_count": 21,
   "id": "07312a73",
   "metadata": {},
   "outputs": [
    {
     "data": {
      "text/plain": [
       "-1"
      ]
     },
     "execution_count": 21,
     "metadata": {},
     "output_type": "execute_result"
    }
   ],
   "source": [
    "# displaying the original image\n",
    "\n",
    "cv2.imshow(\"RedBlueGreen\", img)\n",
    "cv2.waitKey(0)"
   ]
  },
  {
   "cell_type": "code",
   "execution_count": 22,
   "id": "1ddf9e66",
   "metadata": {},
   "outputs": [
    {
     "data": {
      "text/plain": [
       "-1"
      ]
     },
     "execution_count": 22,
     "metadata": {},
     "output_type": "execute_result"
    }
   ],
   "source": [
    "cv2.imshow(\"Blue\", B)\n",
    "cv2.waitKey(0)"
   ]
  },
  {
   "cell_type": "code",
   "execution_count": 23,
   "id": "5934aa03",
   "metadata": {},
   "outputs": [
    {
     "data": {
      "text/plain": [
       "-1"
      ]
     },
     "execution_count": 23,
     "metadata": {},
     "output_type": "execute_result"
    }
   ],
   "source": [
    "cv2.imshow(\"Green\", G)\n",
    "cv2.waitKey(0)"
   ]
  },
  {
   "cell_type": "code",
   "execution_count": 24,
   "id": "65196184",
   "metadata": {},
   "outputs": [
    {
     "data": {
      "text/plain": [
       "-1"
      ]
     },
     "execution_count": 24,
     "metadata": {},
     "output_type": "execute_result"
    }
   ],
   "source": [
    "cv2.imshow(\"Red\", R)\n",
    "cv2.waitKey(0)"
   ]
  },
  {
   "cell_type": "code",
   "execution_count": 25,
   "id": "89dfaceb",
   "metadata": {},
   "outputs": [
    {
     "name": "stdout",
     "output_type": "stream",
     "text": [
      "R : 255  G : 255  B : 255\n"
     ]
    }
   ],
   "source": [
    "# getting the pixel values of RGB\n",
    "(blue, green, red) = img[100, 100]\n",
    "\n",
    "print(f\"R : {red}  G : {green}  B : {blue}\")"
   ]
  },
  {
   "cell_type": "code",
   "execution_count": null,
   "id": "77ce6e0b",
   "metadata": {},
   "outputs": [],
   "source": []
  }
 ],
 "metadata": {
  "kernelspec": {
   "display_name": "Python 3 (ipykernel)",
   "language": "python",
   "name": "python3"
  },
  "language_info": {
   "codemirror_mode": {
    "name": "ipython",
    "version": 3
   },
   "file_extension": ".py",
   "mimetype": "text/x-python",
   "name": "python",
   "nbconvert_exporter": "python",
   "pygments_lexer": "ipython3",
   "version": "3.9.12"
  }
 },
 "nbformat": 4,
 "nbformat_minor": 5
}
