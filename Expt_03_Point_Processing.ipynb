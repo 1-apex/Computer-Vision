{
 "cells": [
  {
   "cell_type": "markdown",
   "id": "618e7afc",
   "metadata": {},
   "source": [
    "## Importing necessary libraries"
   ]
  },
  {
   "cell_type": "code",
   "execution_count": null,
   "id": "ddba8984",
   "metadata": {},
   "outputs": [],
   "source": [
    "import cv2\n",
    "import numpy as np"
   ]
  },
  {
   "cell_type": "markdown",
   "id": "66c856e7",
   "metadata": {},
   "source": [
    "## Reading an image using cv2\n"
   ]
  },
  {
   "cell_type": "code",
   "execution_count": 6,
   "id": "a317d2fe",
   "metadata": {},
   "outputs": [],
   "source": [
    "img = cv2.imread('Images/Expt 03/expt_03_img.png')"
   ]
  },
  {
   "cell_type": "code",
   "execution_count": 7,
   "id": "60c167b1",
   "metadata": {
    "scrolled": true
   },
   "outputs": [
    {
     "data": {
      "text/plain": [
       "(256, 256, 3)"
      ]
     },
     "execution_count": 7,
     "metadata": {},
     "output_type": "execute_result"
    }
   ],
   "source": [
    "img.shape"
   ]
  },
  {
   "cell_type": "code",
   "execution_count": 9,
   "id": "02612265",
   "metadata": {},
   "outputs": [
    {
     "data": {
      "text/plain": [
       "-1"
      ]
     },
     "execution_count": 9,
     "metadata": {},
     "output_type": "execute_result"
    }
   ],
   "source": [
    "cv2.imshow(\"Image\", img)\n",
    "cv2.waitKey(0)"
   ]
  },
  {
   "cell_type": "markdown",
   "id": "a722fa02",
   "metadata": {},
   "source": [
    "## Image Negatives (Linear)"
   ]
  },
  {
   "cell_type": "code",
   "execution_count": 8,
   "id": "f39435e7",
   "metadata": {},
   "outputs": [
    {
     "data": {
      "text/plain": [
       "-1"
      ]
     },
     "execution_count": 8,
     "metadata": {},
     "output_type": "execute_result"
    }
   ],
   "source": [
    "negative_image = 255 - img\n",
    "\n",
    "cv2.imshow(\"Negative Image\", negative_image)\n",
    "cv2.waitKey(0)"
   ]
  },
  {
   "cell_type": "markdown",
   "id": "b73435a4",
   "metadata": {},
   "source": [
    "##  Log Transformations"
   ]
  },
  {
   "cell_type": "code",
   "execution_count": 21,
   "id": "d6c0c501",
   "metadata": {},
   "outputs": [],
   "source": [
    "c = 255 / (np.log(1 + np.max(img)))"
   ]
  },
  {
   "cell_type": "code",
   "execution_count": 24,
   "id": "42d0358a",
   "metadata": {},
   "outputs": [
    {
     "data": {
      "text/plain": [
       "-1"
      ]
     },
     "execution_count": 24,
     "metadata": {},
     "output_type": "execute_result"
    }
   ],
   "source": [
    "log_transformed_image = (c * np.log(1 + img)).astype(np.uint8)\n",
    "\n",
    "cv2.imshow(\"Log Transformed Image\", log_transformed_image)\n",
    "cv2.waitKey(0)"
   ]
  },
  {
   "cell_type": "markdown",
   "id": "47876fb2",
   "metadata": {},
   "source": [
    "## Power-Law (Gamma) Transformation"
   ]
  },
  {
   "cell_type": "code",
   "execution_count": 28,
   "id": "04eb5458",
   "metadata": {},
   "outputs": [
    {
     "data": {
      "text/plain": [
       "-1"
      ]
     },
     "execution_count": 28,
     "metadata": {},
     "output_type": "execute_result"
    }
   ],
   "source": [
    "gamma = 2.2  \n",
    "\n",
    "gamma_img = np.array(255 * (img / 255) ** gamma, dtype='uint8')\n",
    "\n",
    "cv2.imshow(\"Gamma Transformed Image\", gamma_img)\n",
    "cv2.waitKey(0)"
   ]
  },
  {
   "cell_type": "markdown",
   "id": "1931685e",
   "metadata": {},
   "source": [
    "## Piecewise-Linear Transformation Function"
   ]
  },
  {
   "cell_type": "code",
   "execution_count": 29,
   "id": "1706c311",
   "metadata": {},
   "outputs": [],
   "source": [
    "# Function to map each intensity level to output intensity level.\n",
    "def pixelVal(pix, r1, s1, r2, s2):\n",
    "    if (0 <= pix and pix <= r1):\n",
    "        return (s1 / r1)*pix\n",
    "    elif (r1 < pix and pix <= r2):\n",
    "        return ((s2 - s1)/(r2 - r1)) * (pix - r1) + s1\n",
    "    else:\n",
    "        return ((255 - s2)/(255 - r2)) * (pix - r2) + s2"
   ]
  },
  {
   "cell_type": "code",
   "execution_count": 30,
   "id": "e3f100e4",
   "metadata": {},
   "outputs": [],
   "source": [
    "r1 = 70\n",
    "s1 = 0\n",
    "r2 = 140\n",
    "s2 = 255"
   ]
  },
  {
   "cell_type": "code",
   "execution_count": 31,
   "id": "bca4f39b",
   "metadata": {},
   "outputs": [],
   "source": [
    "# Vectorize the function to apply it to each value in the Numpy array.\n",
    "pixelVal_vec = np.vectorize(pixelVal)\n",
    "  \n",
    "# Apply contrast stretching.\n",
    "contrast_stretched = pixelVal_vec(img, r1, s1, r2, s2)"
   ]
  },
  {
   "cell_type": "code",
   "execution_count": 32,
   "id": "ad2eddaf",
   "metadata": {},
   "outputs": [
    {
     "data": {
      "text/plain": [
       "-1"
      ]
     },
     "execution_count": 32,
     "metadata": {},
     "output_type": "execute_result"
    }
   ],
   "source": [
    "cv2.imshow(\"Piecewise-Linear Transformed Image\", contrast_stretched)\n",
    "cv2.waitKey(0)"
   ]
  },
  {
   "cell_type": "code",
   "execution_count": null,
   "id": "3a97173d",
   "metadata": {},
   "outputs": [],
   "source": []
  }
 ],
 "metadata": {
  "kernelspec": {
   "display_name": "Python 3 (ipykernel)",
   "language": "python",
   "name": "python3"
  },
  "language_info": {
   "codemirror_mode": {
    "name": "ipython",
    "version": 3
   },
   "file_extension": ".py",
   "mimetype": "text/x-python",
   "name": "python",
   "nbconvert_exporter": "python",
   "pygments_lexer": "ipython3",
   "version": "3.9.12"
  }
 },
 "nbformat": 4,
 "nbformat_minor": 5
}
